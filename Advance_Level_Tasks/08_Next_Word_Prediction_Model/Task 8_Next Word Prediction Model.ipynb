{
 "cells": [
  {
   "cell_type": "markdown",
   "id": "0e803205",
   "metadata": {},
   "source": [
    "<hr>\n",
    "<hr>\n",
    "<B>TASK 8: NEXT WORD PREDICTION</B>\n",
    "<HR>\n",
    "    <HR>"
   ]
  },
  {
   "cell_type": "markdown",
   "id": "8656c398",
   "metadata": {},
   "source": [
    "- <b> Importing libraries👇</b>"
   ]
  },
  {
   "cell_type": "code",
   "execution_count": 33,
   "id": "b73148d6",
   "metadata": {},
   "outputs": [],
   "source": [
    "import numpy as np\n",
    "np.random.seed(42)\n",
    "import tensorflow as tf\n",
    "tf.random.set_seed(42)\n",
    " \n",
    "from tensorflow.keras.models import Sequential, load_model\n",
    "from tensorflow.keras.layers import Dense, Activation\n",
    "from tensorflow.keras.layers import LSTM, Dropout\n",
    "from tensorflow.keras.layers import TimeDistributed\n",
    "from tensorflow.keras.layers import Dense, Activation, Dropout, RepeatVector\n",
    "from tensorflow.keras.optimizers import  RMSprop\n",
    "import matplotlib.pyplot as plt\n",
    "import pickle\n",
    "import heapq"
   ]
  },
  {
   "cell_type": "markdown",
   "id": "4a32771d",
   "metadata": {},
   "source": [
    "- <b> Load Data👇</b>"
   ]
  },
  {
   "cell_type": "code",
   "execution_count": 34,
   "id": "2c0e6e05",
   "metadata": {},
   "outputs": [
    {
     "name": "stdout",
     "output_type": "stream",
     "text": [
      "corpus length:  581888\n"
     ]
    }
   ],
   "source": [
    "txt = open(\"SherlockHolmes.txt\",encoding='utf8').read().lower()\n",
    "print(\"corpus length: \",len(txt))"
   ]
  },
  {
   "cell_type": "markdown",
   "id": "69bee9eb",
   "metadata": {},
   "source": [
    "- <b>Data Preprocessing 👇</b>"
   ]
  },
  {
   "cell_type": "code",
   "execution_count": 35,
   "id": "bab952e8",
   "metadata": {},
   "outputs": [
    {
     "name": "stdout",
     "output_type": "stream",
     "text": [
      "unique chars: 73\n"
     ]
    }
   ],
   "source": [
    "character = sorted(list(set(txt)))\n",
    "char_indices = dict((c, i) for i, c in enumerate(character))\n",
    "indices_char = dict((i, c) for i, c in enumerate(character))\n",
    " \n",
    "print(f'unique chars: {len(character)}')"
   ]
  },
  {
   "cell_type": "code",
   "execution_count": 36,
   "id": "80e94d1d",
   "metadata": {},
   "outputs": [
    {
     "name": "stdout",
     "output_type": "stream",
     "text": [
      "num training examples: 193950\n"
     ]
    }
   ],
   "source": [
    "seq_len = 40\n",
    "step = 3\n",
    "sentences = []\n",
    "next_chars = []\n",
    "for i in range(0, len(txt) - seq_len, step):\n",
    "    sentences.append(txt[i: i + seq_len ])\n",
    "    next_chars.append(txt[i + seq_len])\n",
    "print(f'num training examples: {len(sentences)}')"
   ]
  },
  {
   "cell_type": "markdown",
   "id": "8564d279",
   "metadata": {},
   "source": [
    "- <b>One hot Encoding 👇</b>"
   ]
  },
  {
   "cell_type": "code",
   "execution_count": 38,
   "id": "423d42a1",
   "metadata": {},
   "outputs": [
    {
     "data": {
      "text/plain": [
       "'e'"
      ]
     },
     "execution_count": 38,
     "metadata": {},
     "output_type": "execute_result"
    }
   ],
   "source": [
    "X = np.zeros((len(sentences), seq_len, len(character)), dtype=bool)\n",
    "y = np.zeros((len(sentences), len(character)), dtype=bool)\n",
    "for i, sentence in enumerate(sentences):\n",
    "    for t, char in enumerate(sentence):\n",
    "        X[i, t, char_indices[char]] = 1\n",
    "    y[i, char_indices[next_chars[i]]] = 1\n",
    "\n",
    "sentences[124]\n",
    "next_chars[100]"
   ]
  },
  {
   "cell_type": "markdown",
   "id": "786dcd50",
   "metadata": {},
   "source": [
    "- <b>One hot encoded data 👇</b>"
   ]
  },
  {
   "cell_type": "code",
   "execution_count": 39,
   "id": "3e62d38b",
   "metadata": {},
   "outputs": [
    {
     "name": "stdout",
     "output_type": "stream",
     "text": [
      "[False False False False False False False False False False False False\n",
      " False False False False False False False False False False False False\n",
      " False False False False False False False False False False False False\n",
      " False False False False False False False False False False False False\n",
      " False False False False False False False False False False False False\n",
      " False False False False False False False False False False False False\n",
      "  True]\n"
     ]
    }
   ],
   "source": [
    "print(X[0][0])"
   ]
  },
  {
   "cell_type": "code",
   "execution_count": 41,
   "id": "8835a97a",
   "metadata": {},
   "outputs": [
    {
     "name": "stdout",
     "output_type": "stream",
     "text": [
      "[False False False False False False False False False False False False\n",
      " False False False False False False False False False False False False\n",
      " False False False False False False False False False False False False\n",
      " False False False False False False False False False False False False\n",
      " False False False  True False False False False False False False False\n",
      " False False False False False False False False False False False False\n",
      " False]\n"
     ]
    }
   ],
   "source": [
    "print(y[0])"
   ]
  },
  {
   "cell_type": "markdown",
   "id": "8aa91b09",
   "metadata": {},
   "source": [
    "- <b>Creating a Model 👇</b>"
   ]
  },
  {
   "cell_type": "code",
   "execution_count": 42,
   "id": "487c380c",
   "metadata": {},
   "outputs": [],
   "source": [
    "model = Sequential()\n",
    "model.add(LSTM(128, input_shape=(seq_len, len(character))))\n",
    "model.add(Dense(len(character)))\n",
    "model.add(Activation('softmax'))"
   ]
  },
  {
   "cell_type": "code",
   "execution_count": 45,
   "id": "5d1811b5",
   "metadata": {},
   "outputs": [
    {
     "name": "stdout",
     "output_type": "stream",
     "text": [
      "Model: \"sequential_1\"\n",
      "_________________________________________________________________\n",
      " Layer (type)                Output Shape              Param #   \n",
      "=================================================================\n",
      " lstm_1 (LSTM)               (None, 128)               103424    \n",
      "                                                                 \n",
      " dense_1 (Dense)             (None, 73)                9417      \n",
      "                                                                 \n",
      " activation_1 (Activation)   (None, 73)                0         \n",
      "                                                                 \n",
      "=================================================================\n",
      "Total params: 112,841\n",
      "Trainable params: 112,841\n",
      "Non-trainable params: 0\n",
      "_________________________________________________________________\n"
     ]
    }
   ],
   "source": [
    "model.summary()\n",
    "from tensorflow.keras.utils import plot_model\n"
   ]
  },
  {
   "cell_type": "markdown",
   "id": "aa07db2e",
   "metadata": {},
   "source": [
    "- <b> Training our model👇</b>"
   ]
  },
  {
   "cell_type": "code",
   "execution_count": 46,
   "id": "cd8683b5",
   "metadata": {},
   "outputs": [
    {
     "name": "stdout",
     "output_type": "stream",
     "text": [
      "Epoch 1/30\n",
      "1501/1501 [==============================] - 128s 80ms/step - loss: 1.9430 - accuracy: 0.4284 - val_loss: 2.1810 - val_accuracy: 0.3912\n",
      "Epoch 2/30\n",
      "1501/1501 [==============================] - 118s 79ms/step - loss: 1.6102 - accuracy: 0.5180 - val_loss: 2.0760 - val_accuracy: 0.4546\n",
      "Epoch 3/30\n",
      "1501/1501 [==============================] - 135s 90ms/step - loss: 1.5167 - accuracy: 0.5437 - val_loss: 2.0048 - val_accuracy: 0.4521\n",
      "Epoch 4/30\n",
      "1501/1501 [==============================] - 134s 89ms/step - loss: 1.4671 - accuracy: 0.5581 - val_loss: 1.9848 - val_accuracy: 0.4675\n",
      "Epoch 5/30\n",
      "1501/1501 [==============================] - 124s 82ms/step - loss: 1.4361 - accuracy: 0.5649 - val_loss: 1.9679 - val_accuracy: 0.4732\n",
      "Epoch 6/30\n",
      "1501/1501 [==============================] - 116s 77ms/step - loss: 1.4120 - accuracy: 0.5710 - val_loss: 1.9793 - val_accuracy: 0.4706\n",
      "Epoch 7/30\n",
      "1501/1501 [==============================] - 113s 75ms/step - loss: 1.3951 - accuracy: 0.5763 - val_loss: 1.9715 - val_accuracy: 0.4794\n",
      "Epoch 8/30\n",
      "1501/1501 [==============================] - 125s 83ms/step - loss: 1.3792 - accuracy: 0.5802 - val_loss: 2.0017 - val_accuracy: 0.4711\n",
      "Epoch 9/30\n",
      "1501/1501 [==============================] - 127s 84ms/step - loss: 1.3660 - accuracy: 0.5839 - val_loss: 1.9657 - val_accuracy: 0.4887\n",
      "Epoch 10/30\n",
      "1501/1501 [==============================] - 124s 83ms/step - loss: 1.3577 - accuracy: 0.5866 - val_loss: 1.9936 - val_accuracy: 0.4866\n",
      "Epoch 11/30\n",
      "1501/1501 [==============================] - 121s 80ms/step - loss: 1.3478 - accuracy: 0.5889 - val_loss: 1.9792 - val_accuracy: 0.4907\n",
      "Epoch 12/30\n",
      "1501/1501 [==============================] - 119s 79ms/step - loss: 1.3391 - accuracy: 0.5898 - val_loss: 2.0309 - val_accuracy: 0.4784\n",
      "Epoch 13/30\n",
      "1501/1501 [==============================] - 104s 70ms/step - loss: 1.3341 - accuracy: 0.5916 - val_loss: 2.0532 - val_accuracy: 0.4768\n",
      "Epoch 14/30\n",
      "1501/1501 [==============================] - 115s 76ms/step - loss: 1.3275 - accuracy: 0.5937 - val_loss: 2.0440 - val_accuracy: 0.4789\n",
      "Epoch 15/30\n",
      "1501/1501 [==============================] - 109s 72ms/step - loss: 1.3212 - accuracy: 0.5947 - val_loss: 2.0277 - val_accuracy: 0.4840\n",
      "Epoch 16/30\n",
      "1501/1501 [==============================] - 111s 74ms/step - loss: 1.3164 - accuracy: 0.5970 - val_loss: 2.0426 - val_accuracy: 0.4789\n",
      "Epoch 17/30\n",
      "1501/1501 [==============================] - 114s 76ms/step - loss: 1.3115 - accuracy: 0.5973 - val_loss: 2.0423 - val_accuracy: 0.4969\n",
      "Epoch 18/30\n",
      "1501/1501 [==============================] - 116s 77ms/step - loss: 1.3073 - accuracy: 0.5984 - val_loss: 2.0286 - val_accuracy: 0.4737\n",
      "Epoch 19/30\n",
      "1501/1501 [==============================] - 112s 74ms/step - loss: 1.3040 - accuracy: 0.5999 - val_loss: 2.0824 - val_accuracy: 0.4799\n",
      "Epoch 20/30\n",
      "1501/1501 [==============================] - 114s 76ms/step - loss: 1.2997 - accuracy: 0.6012 - val_loss: 2.0360 - val_accuracy: 0.4933\n",
      "Epoch 21/30\n",
      "1501/1501 [==============================] - 119s 79ms/step - loss: 1.2928 - accuracy: 0.6033 - val_loss: 2.0855 - val_accuracy: 0.4763\n",
      "Epoch 22/30\n",
      "1501/1501 [==============================] - 123s 82ms/step - loss: 1.2898 - accuracy: 0.6026 - val_loss: 2.0361 - val_accuracy: 0.4928\n",
      "Epoch 23/30\n",
      "1501/1501 [==============================] - 120s 80ms/step - loss: 1.2874 - accuracy: 0.6042 - val_loss: 2.0356 - val_accuracy: 0.4840\n",
      "Epoch 24/30\n",
      "1501/1501 [==============================] - 122s 81ms/step - loss: 1.2842 - accuracy: 0.6047 - val_loss: 2.0211 - val_accuracy: 0.4892\n",
      "Epoch 25/30\n",
      "1501/1501 [==============================] - 132s 88ms/step - loss: 1.2814 - accuracy: 0.6063 - val_loss: 2.0730 - val_accuracy: 0.4835\n",
      "Epoch 26/30\n",
      "1501/1501 [==============================] - 120s 80ms/step - loss: 1.2778 - accuracy: 0.6073 - val_loss: 2.0712 - val_accuracy: 0.4773\n",
      "Epoch 27/30\n",
      "1501/1501 [==============================] - 123s 82ms/step - loss: 1.2734 - accuracy: 0.6077 - val_loss: 2.0653 - val_accuracy: 0.4737\n",
      "Epoch 28/30\n",
      "1501/1501 [==============================] - 122s 81ms/step - loss: 1.2703 - accuracy: 0.6082 - val_loss: 2.0811 - val_accuracy: 0.4737\n",
      "Epoch 29/30\n",
      "1501/1501 [==============================] - 122s 81ms/step - loss: 1.2677 - accuracy: 0.6084 - val_loss: 2.1200 - val_accuracy: 0.4649\n",
      "Epoch 30/30\n",
      "1501/1501 [==============================] - 119s 79ms/step - loss: 1.2651 - accuracy: 0.6093 - val_loss: 2.0751 - val_accuracy: 0.4747\n"
     ]
    }
   ],
   "source": [
    "optimizer = RMSprop(learning_rate=0.01)\n",
    "model.compile(loss='categorical_crossentropy', optimizer=optimizer, metrics=['accuracy'])\n",
    "history = model.fit(X, y,\n",
    "                    validation_split=0.01, \n",
    "                    batch_size=128,\n",
    "                    epochs=30, \n",
    "                    shuffle=True).history"
   ]
  },
  {
   "cell_type": "markdown",
   "id": "4e775482",
   "metadata": {},
   "source": [
    "- <b> Save the model👇</b>"
   ]
  },
  {
   "cell_type": "code",
   "execution_count": 47,
   "id": "35486cf4",
   "metadata": {},
   "outputs": [],
   "source": [
    "model.save('keras_model.h5')\n",
    "pickle.dump(history, open(\"history.p\", \"wb\"))"
   ]
  },
  {
   "cell_type": "markdown",
   "id": "4ef73340",
   "metadata": {},
   "source": [
    "- <b> Loading the model👇</b>"
   ]
  },
  {
   "cell_type": "code",
   "execution_count": 48,
   "id": "e1a3c6b3",
   "metadata": {},
   "outputs": [],
   "source": [
    "model = load_model('keras_model.h5')\n",
    "history = pickle.load(open(\"history.p\", \"rb\"))"
   ]
  },
  {
   "cell_type": "markdown",
   "id": "b903e15c",
   "metadata": {},
   "source": [
    "- <b> Model Evaluation👇</b>"
   ]
  },
  {
   "cell_type": "code",
   "execution_count": 49,
   "id": "a40dfef3",
   "metadata": {},
   "outputs": [
    {
     "name": "stdout",
     "output_type": "stream",
     "text": [
      "6061/6061 [==============================] - 109s 18ms/step - loss: 1.2343 - accuracy: 0.6194\n",
      "Test Loss 1.234304428100586\n",
      "Test Accuracy 0.6193554997444153\n"
     ]
    }
   ],
   "source": [
    "loss_and_acc=model.evaluate(X,y)\n",
    "print(\"Test Loss\", loss_and_acc[0])\n",
    "print(\"Test Accuracy\", loss_and_acc[1])"
   ]
  },
  {
   "cell_type": "code",
   "execution_count": 50,
   "id": "0125894c",
   "metadata": {},
   "outputs": [
    {
     "data": {
      "image/png": "[encoded data removed]",
      "text/plain": [
       "<Figure size 1440x432 with 2 Axes>"
      ]
     },
     "metadata": {
      "needs_background": "light"
     },
     "output_type": "display_data"
    }
   ],
   "source": [
    "acc = history['accuracy']\n",
    "val_acc = history['val_accuracy']\n",
    "loss = history['loss']\n",
    "val_loss = history['val_loss']\n",
    "epochs = range(len(acc))\n",
    "\n",
    "\n",
    "\n",
    "fig, ax = plt.subplots(nrows=1, ncols=2, figsize=(20, 6))\n",
    "ax[0].plot(epochs, acc, 'r', label='Training accuracy')\n",
    "ax[0].plot(epochs, val_acc, 'b', label='Validation accuracy')\n",
    "ax[0].legend(loc=0)\n",
    "ax[1].plot(epochs, loss, 'r', label='Training loss')\n",
    "ax[1].plot(epochs, val_loss, 'b', label='Validation loss')\n",
    "ax[1].legend(loc=0)\n",
    "\n",
    "plt.suptitle('Training and validation')\n",
    "plt.show()"
   ]
  },
  {
   "cell_type": "markdown",
   "id": "af01218d",
   "metadata": {},
   "source": [
    " - <b> To achieve next probable characters 👇</b>"
   ]
  },
  {
   "cell_type": "code",
   "execution_count": 51,
   "id": "2bbb3c50",
   "metadata": {},
   "outputs": [
    {
     "data": {
      "text/plain": [
       "array([[[0., 0., 0., ..., 0., 0., 0.],\n",
       "        [0., 0., 0., ..., 0., 0., 0.],\n",
       "        [0., 0., 0., ..., 0., 0., 0.],\n",
       "        ...,\n",
       "        [0., 0., 0., ..., 0., 0., 0.],\n",
       "        [0., 0., 0., ..., 0., 0., 0.],\n",
       "        [0., 0., 0., ..., 0., 0., 0.]]])"
      ]
     },
     "execution_count": 51,
     "metadata": {},
     "output_type": "execute_result"
    }
   ],
   "source": [
    "def prepare_input(text):\n",
    "    x = np.zeros((1, seq_len, len(character)))\n",
    "    for t, char in enumerate(text):\n",
    "        x[0, t, char_indices[char]] = 1.\n",
    "        \n",
    "    return x\n",
    "\n",
    "prepare_input(\"This is an example of input of our model\".lower())"
   ]
  },
  {
   "cell_type": "code",
   "execution_count": 52,
   "id": "bd41474e",
   "metadata": {},
   "outputs": [],
   "source": [
    "def sample(preds, top_n=3):\n",
    "    preds = np.asarray(preds).astype('float64')\n",
    "    preds = np.log(preds)\n",
    "    exp_preds = np.exp(preds)\n",
    "    preds = exp_preds / np.sum(exp_preds)\n",
    "    \n",
    "    return heapq.nlargest(top_n, range(len(preds)), preds.take)"
   ]
  },
  {
   "cell_type": "code",
   "execution_count": 53,
   "id": "dcef0b75",
   "metadata": {},
   "outputs": [],
   "source": [
    "def predict_completion(text):\n",
    "    original_text = text\n",
    "    generated = text\n",
    "    completion = ''\n",
    "    while True:\n",
    "        x = prepare_input(text)\n",
    "        preds = model.predict(x, verbose=0)[0]\n",
    "        next_index = sample(preds, top_n=1)[0]\n",
    "        next_char = indices_char[next_index]\n",
    "        text = text[1:] + next_char\n",
    "        completion += next_char\n",
    "        \n",
    "        if len(original_text + completion) + 2 > len(original_text) and next_char == ' ':\n",
    "            return completion"
   ]
  },
  {
   "cell_type": "code",
   "execution_count": 54,
   "id": "2e860b01",
   "metadata": {},
   "outputs": [],
   "source": [
    "def predict_completions(text, n=3):\n",
    "    x = prepare_input(text)\n",
    "    preds = model.predict(x, verbose=0)[0]\n",
    "    next_indices = sample(preds, n)\n",
    "    return [indices_char[idx] + predict_completion(text[1:] + indices_char[idx]) for idx in next_indices]"
   ]
  },
  {
   "cell_type": "markdown",
   "id": "6d69ddd7",
   "metadata": {},
   "source": [
    " - <b>Prediction 👇</b>"
   ]
  },
  {
   "cell_type": "code",
   "execution_count": 55,
   "id": "a03df905",
   "metadata": {},
   "outputs": [],
   "source": [
    "quotes = [   \n",
    "    \"Deep learning is subset of machine learning,which is essentially a neural network with three or more layers.\",\n",
    "    \"Machine learning  is the study of computer algorithms that improve automatically through experience and by the use of data.\",\n",
    "    \"It is not a lack of love, but a lack of friendship that makes unhappy marriages.\",\n",
    "    \"Recurrent neural network (RNN) is a type of artificial neural network which uses sequential data or time series data.\",\n",
    "    \"Thanks for spending your precious time to view my work.\"  \n",
    "    \n",
    "]"
   ]
  },
  {
   "cell_type": "code",
   "execution_count": 56,
   "id": "0ae3bafc",
   "metadata": {},
   "outputs": [
    {
     "name": "stdout",
     "output_type": "stream",
     "text": [
      "deep learning is subset of machine learn\n",
      "[' of ', 'er ', ', ', '. ', 's ']\n",
      "\n",
      "machine learning  is the study of comput\n",
      "['ing ', 'led ', 'ence ', 'ter ', 'sunce ']\n",
      "\n",
      "it is not a lack of love, but a lack of \n",
      "['the ', 'a ', 'his ', 'my ', 'some ']\n",
      "\n",
      "recurrent neural network (rnn) is a type\n"
     ]
    },
    {
     "name": "stderr",
     "output_type": "stream",
     "text": [
      "<ipython-input-52-bf39724b6161>:3: RuntimeWarning: divide by zero encountered in log\n",
      "  preds = np.log(preds)\n"
     ]
    },
    {
     "name": "stdout",
     "output_type": "stream",
     "text": [
      "['wjent ', 'arure ', 'jectroner ', 'husb ', 'brough ']\n",
      "\n",
      "thanks for spending your precious time t\n",
      "['he ', 'o ', 'alk ', 'erribly. ', 'race ']\n",
      "\n"
     ]
    }
   ],
   "source": [
    "for q in quotes:\n",
    "    seq = q[:40].lower()\n",
    "    print(seq)\n",
    "    print(predict_completions(seq, 5))\n",
    "    print()"
   ]
  }
 ],
 "metadata": {
  "kernelspec": {
   "display_name": "Python 3",
   "language": "python",
   "name": "python3"
  },
  "language_info": {
   "codemirror_mode": {
    "name": "ipython",
    "version": 3
   },
   "file_extension": ".py",
   "mimetype": "text/x-python",
   "name": "python",
   "nbconvert_exporter": "python",
   "pygments_lexer": "ipython3",
   "version": "3.8.8"
  }
 },
 "nbformat": 4,
 "nbformat_minor": 5
}
