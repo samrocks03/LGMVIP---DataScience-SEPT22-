{
 "cells": [
  {
   "cell_type": "markdown",
   "id": "352500b5",
   "metadata": {},
   "source": [
    "<hr>\n",
    "    <hr>\n",
    "<b>IRIS FLOWER CLASSIFICATION</b>\n",
    "    <hr>\n",
    "<hr>"
   ]
  },
  {
   "cell_type": "markdown",
   "id": "27bdeb46",
   "metadata": {},
   "source": [
    "###### IMPORTING LIBRARIES"
   ]
  },
  {
   "cell_type": "code",
   "execution_count": 1,
   "id": "6c2c0ab2",
   "metadata": {},
   "outputs": [],
   "source": [
    "import pandas as pd\n",
    "import numpy as np\n",
    "\n",
    "import matplotlib.pyplot as plt\n",
    "%matplotlib inline\n",
    "\n",
    "import seaborn as sns\n",
    "\n",
    "import warnings\n",
    "warnings.filterwarnings('ignore')"
   ]
  },
  {
   "cell_type": "markdown",
   "id": "b801ec46",
   "metadata": {},
   "source": [
    "##### DATASET INFORMATION"
   ]
  },
  {
   "cell_type": "markdown",
   "id": "b81ba2b0",
   "metadata": {},
   "source": [
    "The data set contains 3 classes of 50 instances each, where each class refers to a \n",
    "type of iris plant. One class is linearly separable from the other 2; the latter are\n",
    "NOT linearly separable from each other.\n",
    "\n",
    "Predicted attribute: class of iris plant.\n",
    "\n",
    "This is an exceedingly simple domain."
   ]
  },
  {
   "cell_type": "markdown",
   "id": "f7772827",
   "metadata": {},
   "source": [
    "###### ATTRIBUTE INFORMATION"
   ]
  },
  {
   "cell_type": "markdown",
   "id": "00520e1d",
   "metadata": {},
   "source": [
    "1. sepal length in cm\n",
    "2. sepal width in cm\n",
    "3. petal length in cm\n",
    "4. petal width in cm\n",
    "5. class:\n",
    "        - Iris Setosa\n",
    "        - Iris Versicolour\n",
    "        - Iris Virginica"
   ]
  },
  {
   "cell_type": "markdown",
   "id": "5699fca5",
   "metadata": {},
   "source": [
    "###### READING DATASET"
   ]
  },
  {
   "cell_type": "code",
   "execution_count": 2,
   "id": "c196c506",
   "metadata": {},
   "outputs": [],
   "source": [
    "ds = pd.read_csv(\"Iris.csv\")"
   ]
  },
  {
   "cell_type": "code",
   "execution_count": 3,
   "id": "9d772686",
   "metadata": {},
   "outputs": [
    {
     "data": {
      "text/html": [
       "<div>\n",
       "<style scoped>\n",
       "    .dataframe tbody tr th:only-of-type {\n",
       "        vertical-align: middle;\n",
       "    }\n",
       "\n",
       "    .dataframe tbody tr th {\n",
       "        vertical-align: top;\n",
       "    }\n",
       "\n",
       "    .dataframe thead th {\n",
       "        text-align: right;\n",
       "    }\n",
       "</style>\n",
       "<table border=\"1\" class=\"dataframe\">\n",
       "  <thead>\n",
       "    <tr style=\"text-align: right;\">\n",
       "      <th></th>\n",
       "      <th>Id</th>\n",
       "      <th>SepalLength</th>\n",
       "      <th>SepalWidth</th>\n",
       "      <th>PetalLength</th>\n",
       "      <th>PetalWidth</th>\n",
       "      <th>Species</th>\n",
       "    </tr>\n",
       "  </thead>\n",
       "  <tbody>\n",
       "    <tr>\n",
       "      <th>0</th>\n",
       "      <td>1</td>\n",
       "      <td>5.1</td>\n",
       "      <td>3.5</td>\n",
       "      <td>1.4</td>\n",
       "      <td>0.2</td>\n",
       "      <td>Iris-setosa</td>\n",
       "    </tr>\n",
       "    <tr>\n",
       "      <th>1</th>\n",
       "      <td>2</td>\n",
       "      <td>4.9</td>\n",
       "      <td>3.0</td>\n",
       "      <td>1.4</td>\n",
       "      <td>0.2</td>\n",
       "      <td>Iris-setosa</td>\n",
       "    </tr>\n",
       "    <tr>\n",
       "      <th>2</th>\n",
       "      <td>3</td>\n",
       "      <td>4.7</td>\n",
       "      <td>3.2</td>\n",
       "      <td>1.3</td>\n",
       "      <td>0.2</td>\n",
       "      <td>Iris-setosa</td>\n",
       "    </tr>\n",
       "    <tr>\n",
       "      <th>3</th>\n",
       "      <td>4</td>\n",
       "      <td>4.6</td>\n",
       "      <td>3.1</td>\n",
       "      <td>1.5</td>\n",
       "      <td>0.2</td>\n",
       "      <td>Iris-setosa</td>\n",
       "    </tr>\n",
       "    <tr>\n",
       "      <th>4</th>\n",
       "      <td>5</td>\n",
       "      <td>5.0</td>\n",
       "      <td>3.6</td>\n",
       "      <td>1.4</td>\n",
       "      <td>0.2</td>\n",
       "      <td>Iris-setosa</td>\n",
       "    </tr>\n",
       "  </tbody>\n",
       "</table>\n",
       "</div>"
      ],
      "text/plain": [
       "   Id  SepalLength  SepalWidth  PetalLength  PetalWidth      Species\n",
       "0   1          5.1         3.5          1.4         0.2  Iris-setosa\n",
       "1   2          4.9         3.0          1.4         0.2  Iris-setosa\n",
       "2   3          4.7         3.2          1.3         0.2  Iris-setosa\n",
       "3   4          4.6         3.1          1.5         0.2  Iris-setosa\n",
       "4   5          5.0         3.6          1.4         0.2  Iris-setosa"
      ]
     },
     "execution_count": 3,
     "metadata": {},
     "output_type": "execute_result"
    }
   ],
   "source": [
    "ds.head()"
   ]
  },
  {
   "cell_type": "code",
   "execution_count": 4,
   "id": "2f3bf7a7",
   "metadata": {},
   "outputs": [
    {
     "data": {
      "text/plain": [
       "(150, 6)"
      ]
     },
     "execution_count": 4,
     "metadata": {},
     "output_type": "execute_result"
    }
   ],
   "source": [
    "ds.shape #shape of dataset"
   ]
  },
  {
   "cell_type": "code",
   "execution_count": 5,
   "id": "be032694",
   "metadata": {},
   "outputs": [
    {
     "data": {
      "text/plain": [
       "Index(['Id', 'SepalLength', 'SepalWidth', 'PetalLength', 'PetalWidth',\n",
       "       'Species'],\n",
       "      dtype='object')"
      ]
     },
     "execution_count": 5,
     "metadata": {},
     "output_type": "execute_result"
    }
   ],
   "source": [
    "ds.columns #columns in dataset"
   ]
  },
  {
   "cell_type": "code",
   "execution_count": 6,
   "id": "84cb6c81",
   "metadata": {},
   "outputs": [
    {
     "name": "stdout",
     "output_type": "stream",
     "text": [
      "<class 'pandas.core.frame.DataFrame'>\n",
      "RangeIndex: 150 entries, 0 to 149\n",
      "Data columns (total 6 columns):\n",
      " #   Column       Non-Null Count  Dtype  \n",
      "---  ------       --------------  -----  \n",
      " 0   Id           150 non-null    int64  \n",
      " 1   SepalLength  150 non-null    float64\n",
      " 2   SepalWidth   150 non-null    float64\n",
      " 3   PetalLength  150 non-null    float64\n",
      " 4   PetalWidth   150 non-null    float64\n",
      " 5   Species      150 non-null    object \n",
      "dtypes: float64(4), int64(1), object(1)\n",
      "memory usage: 7.2+ KB\n"
     ]
    }
   ],
   "source": [
    "ds.info()  #Dataset Summary"
   ]
  },
  {
   "cell_type": "code",
   "execution_count": 7,
   "id": "b8c3073b",
   "metadata": {},
   "outputs": [
    {
     "data": {
      "text/html": [
       "<div>\n",
       "<style scoped>\n",
       "    .dataframe tbody tr th:only-of-type {\n",
       "        vertical-align: middle;\n",
       "    }\n",
       "\n",
       "    .dataframe tbody tr th {\n",
       "        vertical-align: top;\n",
       "    }\n",
       "\n",
       "    .dataframe thead th {\n",
       "        text-align: right;\n",
       "    }\n",
       "</style>\n",
       "<table border=\"1\" class=\"dataframe\">\n",
       "  <thead>\n",
       "    <tr style=\"text-align: right;\">\n",
       "      <th></th>\n",
       "      <th>Id</th>\n",
       "      <th>SepalLength</th>\n",
       "      <th>SepalWidth</th>\n",
       "      <th>PetalLength</th>\n",
       "      <th>PetalWidth</th>\n",
       "    </tr>\n",
       "  </thead>\n",
       "  <tbody>\n",
       "    <tr>\n",
       "      <th>count</th>\n",
       "      <td>150.000000</td>\n",
       "      <td>150.000000</td>\n",
       "      <td>150.000000</td>\n",
       "      <td>150.000000</td>\n",
       "      <td>150.000000</td>\n",
       "    </tr>\n",
       "    <tr>\n",
       "      <th>mean</th>\n",
       "      <td>75.500000</td>\n",
       "      <td>5.843333</td>\n",
       "      <td>3.054000</td>\n",
       "      <td>3.758667</td>\n",
       "      <td>1.198667</td>\n",
       "    </tr>\n",
       "    <tr>\n",
       "      <th>std</th>\n",
       "      <td>43.445368</td>\n",
       "      <td>0.828066</td>\n",
       "      <td>0.433594</td>\n",
       "      <td>1.764420</td>\n",
       "      <td>0.763161</td>\n",
       "    </tr>\n",
       "    <tr>\n",
       "      <th>min</th>\n",
       "      <td>1.000000</td>\n",
       "      <td>4.300000</td>\n",
       "      <td>2.000000</td>\n",
       "      <td>1.000000</td>\n",
       "      <td>0.100000</td>\n",
       "    </tr>\n",
       "    <tr>\n",
       "      <th>25%</th>\n",
       "      <td>38.250000</td>\n",
       "      <td>5.100000</td>\n",
       "      <td>2.800000</td>\n",
       "      <td>1.600000</td>\n",
       "      <td>0.300000</td>\n",
       "    </tr>\n",
       "    <tr>\n",
       "      <th>50%</th>\n",
       "      <td>75.500000</td>\n",
       "      <td>5.800000</td>\n",
       "      <td>3.000000</td>\n",
       "      <td>4.350000</td>\n",
       "      <td>1.300000</td>\n",
       "    </tr>\n",
       "    <tr>\n",
       "      <th>75%</th>\n",
       "      <td>112.750000</td>\n",
       "      <td>6.400000</td>\n",
       "      <td>3.300000</td>\n",
       "      <td>5.100000</td>\n",
       "      <td>1.800000</td>\n",
       "    </tr>\n",
       "    <tr>\n",
       "      <th>max</th>\n",
       "      <td>150.000000</td>\n",
       "      <td>7.900000</td>\n",
       "      <td>4.400000</td>\n",
       "      <td>6.900000</td>\n",
       "      <td>2.500000</td>\n",
       "    </tr>\n",
       "  </tbody>\n",
       "</table>\n",
       "</div>"
      ],
      "text/plain": [
       "               Id  SepalLength  SepalWidth  PetalLength  PetalWidth\n",
       "count  150.000000   150.000000  150.000000   150.000000  150.000000\n",
       "mean    75.500000     5.843333    3.054000     3.758667    1.198667\n",
       "std     43.445368     0.828066    0.433594     1.764420    0.763161\n",
       "min      1.000000     4.300000    2.000000     1.000000    0.100000\n",
       "25%     38.250000     5.100000    2.800000     1.600000    0.300000\n",
       "50%     75.500000     5.800000    3.000000     4.350000    1.300000\n",
       "75%    112.750000     6.400000    3.300000     5.100000    1.800000\n",
       "max    150.000000     7.900000    4.400000     6.900000    2.500000"
      ]
     },
     "execution_count": 7,
     "metadata": {},
     "output_type": "execute_result"
    }
   ],
   "source": [
    "ds.describe()  #Dataset Statistical Summary"
   ]
  },
  {
   "cell_type": "code",
   "execution_count": 8,
   "id": "2e32febe",
   "metadata": {},
   "outputs": [
    {
     "data": {
      "text/plain": [
       "Id             0\n",
       "SepalLength    0\n",
       "SepalWidth     0\n",
       "PetalLength    0\n",
       "PetalWidth     0\n",
       "Species        0\n",
       "dtype: int64"
      ]
     },
     "execution_count": 8,
     "metadata": {},
     "output_type": "execute_result"
    }
   ],
   "source": [
    "ds.isnull().sum() #checking all columns 'NULL VALUES' "
   ]
  },
  {
   "cell_type": "code",
   "execution_count": 9,
   "id": "61bef9e4",
   "metadata": {},
   "outputs": [
    {
     "data": {
      "image/png": "[encoded data removed]",
      "text/plain": [
       "<Figure size 432x288 with 1 Axes>"
      ]
     },
     "metadata": {},
     "output_type": "display_data"
    }
   ],
   "source": [
    "cols = ['c','m','y']\n",
    "ds[\"Species\"].value_counts().plot(kind ='pie',\n",
    "                                  labels = ds[\"Species\"].unique(),\n",
    "                                  colors = cols,\n",
    "                                  autopct = '%1.1f%%',\n",
    "                                  explode = [.07,.07,.07])\n",
    "\n",
    "plt.show()"
   ]
  },
  {
   "cell_type": "markdown",
   "id": "ff831c74",
   "metadata": {},
   "source": [
    "###### CORRELATION MATRIX"
   ]
  },
  {
   "cell_type": "code",
   "execution_count": 10,
   "id": "cdf6905d",
   "metadata": {},
   "outputs": [
    {
     "data": {
      "text/html": [
       "<div>\n",
       "<style scoped>\n",
       "    .dataframe tbody tr th:only-of-type {\n",
       "        vertical-align: middle;\n",
       "    }\n",
       "\n",
       "    .dataframe tbody tr th {\n",
       "        vertical-align: top;\n",
       "    }\n",
       "\n",
       "    .dataframe thead th {\n",
       "        text-align: right;\n",
       "    }\n",
       "</style>\n",
       "<table border=\"1\" class=\"dataframe\">\n",
       "  <thead>\n",
       "    <tr style=\"text-align: right;\">\n",
       "      <th></th>\n",
       "      <th>Id</th>\n",
       "      <th>SepalLength</th>\n",
       "      <th>SepalWidth</th>\n",
       "      <th>PetalLength</th>\n",
       "      <th>PetalWidth</th>\n",
       "    </tr>\n",
       "  </thead>\n",
       "  <tbody>\n",
       "    <tr>\n",
       "      <th>Id</th>\n",
       "      <td>1.000</td>\n",
       "      <td>0.525</td>\n",
       "      <td>-0.273</td>\n",
       "      <td>0.645</td>\n",
       "      <td>0.680</td>\n",
       "    </tr>\n",
       "    <tr>\n",
       "      <th>SepalLength</th>\n",
       "      <td>0.525</td>\n",
       "      <td>1.000</td>\n",
       "      <td>-0.072</td>\n",
       "      <td>0.718</td>\n",
       "      <td>0.655</td>\n",
       "    </tr>\n",
       "    <tr>\n",
       "      <th>SepalWidth</th>\n",
       "      <td>-0.273</td>\n",
       "      <td>-0.072</td>\n",
       "      <td>1.000</td>\n",
       "      <td>-0.182</td>\n",
       "      <td>-0.147</td>\n",
       "    </tr>\n",
       "    <tr>\n",
       "      <th>PetalLength</th>\n",
       "      <td>0.645</td>\n",
       "      <td>0.718</td>\n",
       "      <td>-0.182</td>\n",
       "      <td>1.000</td>\n",
       "      <td>0.803</td>\n",
       "    </tr>\n",
       "    <tr>\n",
       "      <th>PetalWidth</th>\n",
       "      <td>0.680</td>\n",
       "      <td>0.655</td>\n",
       "      <td>-0.147</td>\n",
       "      <td>0.803</td>\n",
       "      <td>1.000</td>\n",
       "    </tr>\n",
       "  </tbody>\n",
       "</table>\n",
       "</div>"
      ],
      "text/plain": [
       "                Id  SepalLength  SepalWidth  PetalLength  PetalWidth\n",
       "Id           1.000        0.525      -0.273        0.645       0.680\n",
       "SepalLength  0.525        1.000      -0.072        0.718       0.655\n",
       "SepalWidth  -0.273       -0.072       1.000       -0.182      -0.147\n",
       "PetalLength  0.645        0.718      -0.182        1.000       0.803\n",
       "PetalWidth   0.680        0.655      -0.147        0.803       1.000"
      ]
     },
     "execution_count": 10,
     "metadata": {},
     "output_type": "execute_result"
    }
   ],
   "source": [
    "ds.corr('kendall').round(3)"
   ]
  },
  {
   "cell_type": "markdown",
   "id": "339a95ba",
   "metadata": {},
   "source": [
    "###### CORRELATION GRAPH THROUGH [HEATMAP]"
   ]
  },
  {
   "cell_type": "code",
   "execution_count": 11,
   "id": "626638a2",
   "metadata": {},
   "outputs": [
    {
     "data": {
      "image/png": "[encoded data removed]",
      "text/plain": [
       "<Figure size 648x504 with 2 Axes>"
      ]
     },
     "metadata": {
      "needs_background": "light"
     },
     "output_type": "display_data"
    }
   ],
   "source": [
    "plt.figure(figsize = (9,7))\n",
    "\n",
    "'''Font for title'''\n",
    "font = {'family':'monospace',\n",
    "        'color':'Magenta',\n",
    "        'size':20}\n",
    "sns.heatmap(ds.corr(),\n",
    "            cmap='coolwarm',\n",
    "            robust=True,\n",
    "            annot=True,\n",
    "            linewidths=3)\n",
    "plt.title(\"Correlation Graph\",fontdict=font)\n",
    "plt.show()\n"
   ]
  },
  {
   "cell_type": "markdown",
   "id": "49e08e91",
   "metadata": {},
   "source": [
    "###### CATEGORICAL LABEL ENCODING"
   ]
  },
  {
   "cell_type": "code",
   "execution_count": 12,
   "id": "692e74bd",
   "metadata": {},
   "outputs": [],
   "source": [
    "from sklearn.preprocessing import LabelEncoder\n",
    "Encoder = LabelEncoder()\n",
    "ds['Species'] = Encoder.fit_transform(ds['Species'])"
   ]
  },
  {
   "cell_type": "code",
   "execution_count": 13,
   "id": "76b4fa60",
   "metadata": {},
   "outputs": [
    {
     "data": {
      "text/plain": [
       "array([0, 1, 2])"
      ]
     },
     "execution_count": 13,
     "metadata": {},
     "output_type": "execute_result"
    }
   ],
   "source": [
    "#Encoded values of Species:--\n",
    "ds['Species'].unique()"
   ]
  },
  {
   "cell_type": "code",
   "execution_count": 14,
   "id": "ca508578",
   "metadata": {},
   "outputs": [
    {
     "data": {
      "text/plain": [
       "Index(['Id', 'SepalLength', 'SepalWidth', 'PetalLength', 'PetalWidth',\n",
       "       'Species'],\n",
       "      dtype='object')"
      ]
     },
     "execution_count": 14,
     "metadata": {},
     "output_type": "execute_result"
    }
   ],
   "source": [
    "ds.columns"
   ]
  },
  {
   "cell_type": "markdown",
   "id": "5f0809c7",
   "metadata": {},
   "source": [
    "###### SPLITTING DATASET"
   ]
  },
  {
   "cell_type": "code",
   "execution_count": 15,
   "id": "29b5aec5",
   "metadata": {},
   "outputs": [],
   "source": [
    "from sklearn.model_selection import train_test_split as tts\n",
    "features = ['SepalLength', 'SepalWidth', 'PetalLength', 'PetalWidth']"
   ]
  },
  {
   "cell_type": "code",
   "execution_count": 16,
   "id": "63bb8666",
   "metadata": {},
   "outputs": [],
   "source": [
    "X = ds.loc[:,features].values #Feature Matrix definition\n",
    "y = ds['Species'].values"
   ]
  },
  {
   "cell_type": "code",
   "execution_count": 17,
   "id": "9e66a4bd",
   "metadata": {},
   "outputs": [],
   "source": [
    "X_train,X_test,y_train,y_test = tts(X,y,test_size=40,random_state = 42)"
   ]
  },
  {
   "cell_type": "code",
   "execution_count": 18,
   "id": "c687d32b",
   "metadata": {},
   "outputs": [
    {
     "name": "stdout",
     "output_type": "stream",
     "text": [
      "X-Train shape:  (110, 4)\n",
      "X-Test shape :  (40, 4)\n",
      "y-Train shape:  (110,)\n",
      "y-Test shape :  (40,)\n"
     ]
    }
   ],
   "source": [
    "print('X-Train shape: ',X_train.shape)\n",
    "print('X-Test shape : ',X_test.shape)\n",
    "\n",
    "print('y-Train shape: ',y_train.shape)\n",
    "print('y-Test shape : ',y_test.shape)"
   ]
  },
  {
   "cell_type": "markdown",
   "id": "99c7e687",
   "metadata": {},
   "source": [
    "###### FEATURE SCALING "
   ]
  },
  {
   "cell_type": "code",
   "execution_count": 19,
   "id": "3ecaff11",
   "metadata": {},
   "outputs": [],
   "source": [
    "from sklearn.preprocessing import StandardScaler\n",
    "sc = StandardScaler()\n",
    "\n",
    "X_train = sc.fit_transform(X_train)\n",
    "X_test = sc.transform(X_test)\n"
   ]
  },
  {
   "cell_type": "code",
   "execution_count": 20,
   "id": "8eb57edb",
   "metadata": {},
   "outputs": [],
   "source": [
    "from sklearn.metrics import accuracy_score,classification_report,confusion_matrix"
   ]
  },
  {
   "cell_type": "markdown",
   "id": "272d170c",
   "metadata": {},
   "source": [
    "### (A1)TRAINING THE MODEL [LOGISTIC REGRESSION MODEL]"
   ]
  },
  {
   "cell_type": "code",
   "execution_count": 21,
   "id": "b86eb0c7",
   "metadata": {},
   "outputs": [
    {
     "data": {
      "text/plain": [
       "LogisticRegression()"
      ]
     },
     "execution_count": 21,
     "metadata": {},
     "output_type": "execute_result"
    }
   ],
   "source": [
    "from sklearn.linear_model import LogisticRegression\n",
    "lr = LogisticRegression()\n",
    "\n",
    "lr.fit(X_train,y_train)"
   ]
  },
  {
   "cell_type": "markdown",
   "id": "fae486c9",
   "metadata": {},
   "source": [
    "#### i.Predicting values "
   ]
  },
  {
   "cell_type": "code",
   "execution_count": 22,
   "id": "cf2b6f9f",
   "metadata": {},
   "outputs": [
    {
     "name": "stdout",
     "output_type": "stream",
     "text": [
      "[1 0 2 1 1 0 1 2 1 1 2 0 0 0 0 1 2 1 1 2 0 2 0 2 2 2 2 2 0 0 0 0 1 0 0 2 1\n",
      " 0 0 0]\n"
     ]
    }
   ],
   "source": [
    "print(lr.predict(X_test))"
   ]
  },
  {
   "cell_type": "markdown",
   "id": "3be9bae1",
   "metadata": {},
   "source": [
    "#### ii.Accuracy of The model:"
   ]
  },
  {
   "cell_type": "code",
   "execution_count": 23,
   "id": "15975d1e",
   "metadata": {},
   "outputs": [
    {
     "name": "stdout",
     "output_type": "stream",
     "text": [
      "Accuracy:  100.0 %\n"
     ]
    }
   ],
   "source": [
    "print(\"Accuracy: \",(accuracy_score(y_test,lr.predict(X_test)))*100,\"%\")"
   ]
  },
  {
   "cell_type": "markdown",
   "id": "e120f61b",
   "metadata": {},
   "source": [
    "#### iii.Report:"
   ]
  },
  {
   "cell_type": "code",
   "execution_count": 24,
   "id": "a4e0d8bc",
   "metadata": {},
   "outputs": [
    {
     "name": "stdout",
     "output_type": "stream",
     "text": [
      "              precision    recall  f1-score   support\n",
      "\n",
      "           0       1.00      1.00      1.00        17\n",
      "           1       1.00      1.00      1.00        11\n",
      "           2       1.00      1.00      1.00        12\n",
      "\n",
      "    accuracy                           1.00        40\n",
      "   macro avg       1.00      1.00      1.00        40\n",
      "weighted avg       1.00      1.00      1.00        40\n",
      "\n"
     ]
    }
   ],
   "source": [
    "print(classification_report(y_test,lr.predict(X_test)))"
   ]
  },
  {
   "cell_type": "markdown",
   "id": "1e8359c2",
   "metadata": {},
   "source": [
    "#### iv.Confusion Matrix:"
   ]
  },
  {
   "cell_type": "code",
   "execution_count": 25,
   "id": "9a5eda4b",
   "metadata": {},
   "outputs": [
    {
     "name": "stdout",
     "output_type": "stream",
     "text": [
      "Confusion Matrix is:\n",
      " [[17  0  0]\n",
      " [ 0 11  0]\n",
      " [ 0  0 12]]\n"
     ]
    }
   ],
   "source": [
    "print(\"Confusion Matrix is:\\n\",confusion_matrix(y_test,lr.predict(X_test)))"
   ]
  },
  {
   "cell_type": "markdown",
   "id": "c7d040f3",
   "metadata": {},
   "source": [
    "\n",
    "### (A2) TRAINING THE MODEL[Decision Tree Classifier]"
   ]
  },
  {
   "cell_type": "code",
   "execution_count": 26,
   "id": "72d3c188",
   "metadata": {},
   "outputs": [
    {
     "data": {
      "text/plain": [
       "DecisionTreeClassifier(criterion='entropy', max_depth=6, random_state=0)"
      ]
     },
     "execution_count": 26,
     "metadata": {},
     "output_type": "execute_result"
    }
   ],
   "source": [
    "from sklearn.tree import DecisionTreeClassifier as dt\n",
    "dt_clf = dt(criterion='entropy',\n",
    "        splitter='best',\n",
    "        random_state = 0,\n",
    "        max_depth = 6)\n",
    "\n",
    "dt_clf.fit(X_train,y_train)"
   ]
  },
  {
   "cell_type": "markdown",
   "id": "96a9f67a",
   "metadata": {},
   "source": [
    "#### i.Predicting values:"
   ]
  },
  {
   "cell_type": "code",
   "execution_count": 27,
   "id": "7cb7c5d9",
   "metadata": {},
   "outputs": [
    {
     "name": "stdout",
     "output_type": "stream",
     "text": [
      "[1 0 2 1 1 0 1 1 1 1 1 0 0 0 0 1 2 1 1 2 0 2 0 2 2 2 2 2 0 0 0 0 1 0 0 2 1\n",
      " 0 0 0]\n"
     ]
    }
   ],
   "source": [
    "print(dt_clf.predict(X_test))"
   ]
  },
  {
   "cell_type": "markdown",
   "id": "a4bdb949",
   "metadata": {},
   "source": [
    "#### ii.Accuracy:"
   ]
  },
  {
   "cell_type": "code",
   "execution_count": 28,
   "id": "70a40ecb",
   "metadata": {},
   "outputs": [
    {
     "name": "stdout",
     "output_type": "stream",
     "text": [
      "Accuracy for Decision Tree: 95.0 %\n"
     ]
    }
   ],
   "source": [
    "print(\"Accuracy for Decision Tree:\",(accuracy_score(y_test,dt_clf.predict(X_test)))*100,\"%\")"
   ]
  },
  {
   "cell_type": "markdown",
   "id": "c200d541",
   "metadata": {},
   "source": [
    "#### iii.Report:"
   ]
  },
  {
   "cell_type": "code",
   "execution_count": 29,
   "id": "8aa350aa",
   "metadata": {},
   "outputs": [
    {
     "name": "stdout",
     "output_type": "stream",
     "text": [
      "              precision    recall  f1-score   support\n",
      "\n",
      "           0       1.00      1.00      1.00        17\n",
      "           1       0.85      1.00      0.92        11\n",
      "           2       1.00      0.83      0.91        12\n",
      "\n",
      "    accuracy                           0.95        40\n",
      "   macro avg       0.95      0.94      0.94        40\n",
      "weighted avg       0.96      0.95      0.95        40\n",
      "\n"
     ]
    }
   ],
   "source": [
    "print(classification_report(y_test,dt_clf.predict(X_test)))"
   ]
  },
  {
   "cell_type": "markdown",
   "id": "67211563",
   "metadata": {},
   "source": [
    "#### iv.Confusion Matrix"
   ]
  },
  {
   "cell_type": "code",
   "execution_count": 30,
   "id": "c9f55a1d",
   "metadata": {},
   "outputs": [
    {
     "name": "stdout",
     "output_type": "stream",
     "text": [
      "Confusion Matrix for Decision Tree is:\n",
      " [[17  0  0]\n",
      " [ 0 11  0]\n",
      " [ 0  2 10]]\n"
     ]
    }
   ],
   "source": [
    "print(\"Confusion Matrix for Decision Tree is:\\n\",confusion_matrix(y_test,dt_clf.predict(X_test)))"
   ]
  },
  {
   "cell_type": "markdown",
   "id": "d099c751",
   "metadata": {},
   "source": [
    "### (A3) TRAINING THE MODEL[Naive Bayes]"
   ]
  },
  {
   "cell_type": "code",
   "execution_count": 31,
   "id": "5827a022",
   "metadata": {},
   "outputs": [
    {
     "data": {
      "text/plain": [
       "GaussianNB()"
      ]
     },
     "execution_count": 31,
     "metadata": {},
     "output_type": "execute_result"
    }
   ],
   "source": [
    "from sklearn.naive_bayes import GaussianNB\n",
    "nb_clf = GaussianNB()\n",
    "\n",
    "nb_clf.fit(X_train,y_train)\n"
   ]
  },
  {
   "cell_type": "markdown",
   "id": "3526888f",
   "metadata": {},
   "source": [
    "#### i.Predicting values:"
   ]
  },
  {
   "cell_type": "code",
   "execution_count": 32,
   "id": "acafa878",
   "metadata": {},
   "outputs": [
    {
     "data": {
      "text/plain": [
       "array([1, 0, 2, 1, 1, 0, 1, 2, 1, 1, 2, 0, 0, 0, 0, 1, 2, 1, 1, 2, 0, 2,\n",
       "       0, 2, 2, 2, 2, 2, 0, 0, 0, 0, 1, 0, 0, 2, 1, 0, 0, 0])"
      ]
     },
     "execution_count": 32,
     "metadata": {},
     "output_type": "execute_result"
    }
   ],
   "source": [
    "nb_clf.predict(X_test)"
   ]
  },
  {
   "cell_type": "markdown",
   "id": "d2f46d81",
   "metadata": {},
   "source": [
    "#### ii.Accuracy"
   ]
  },
  {
   "cell_type": "code",
   "execution_count": 33,
   "id": "955dcdd8",
   "metadata": {},
   "outputs": [
    {
     "name": "stdout",
     "output_type": "stream",
     "text": [
      "Accuracy for NAIVE BAYES:  100.0 %\n"
     ]
    }
   ],
   "source": [
    "print(\"Accuracy for NAIVE BAYES: \",accuracy_score(y_test,nb_clf.predict(X_test))*100,\"%\")"
   ]
  },
  {
   "cell_type": "markdown",
   "id": "7923f54c",
   "metadata": {},
   "source": [
    "#### iii.Report"
   ]
  },
  {
   "cell_type": "code",
   "execution_count": 34,
   "id": "f499e8a9",
   "metadata": {},
   "outputs": [
    {
     "name": "stdout",
     "output_type": "stream",
     "text": [
      "              precision    recall  f1-score   support\n",
      "\n",
      "           0       1.00      1.00      1.00        17\n",
      "           1       1.00      1.00      1.00        11\n",
      "           2       1.00      1.00      1.00        12\n",
      "\n",
      "    accuracy                           1.00        40\n",
      "   macro avg       1.00      1.00      1.00        40\n",
      "weighted avg       1.00      1.00      1.00        40\n",
      "\n"
     ]
    }
   ],
   "source": [
    "print(classification_report(y_test,nb_clf.predict(X_test)))"
   ]
  },
  {
   "cell_type": "markdown",
   "id": "7c0c1fe6",
   "metadata": {},
   "source": [
    "#### iv.Confusion Matrix:"
   ]
  },
  {
   "cell_type": "code",
   "execution_count": 35,
   "id": "ee1d6ae1",
   "metadata": {},
   "outputs": [
    {
     "name": "stdout",
     "output_type": "stream",
     "text": [
      "Confusion Matrix is: \n",
      " [[17  0  0]\n",
      " [ 0 11  0]\n",
      " [ 0  0 12]]\n"
     ]
    }
   ],
   "source": [
    "print(\"Confusion Matrix is: \\n\",confusion_matrix(y_test,nb_clf.predict(X_test)))"
   ]
  },
  {
   "cell_type": "markdown",
   "id": "e21ec2bf",
   "metadata": {},
   "source": [
    "### FINAL RESULTS:"
   ]
  },
  {
   "cell_type": "code",
   "execution_count": 36,
   "id": "5010199e",
   "metadata": {},
   "outputs": [
    {
     "name": "stdout",
     "output_type": "stream",
     "text": [
      "Accuracy of Logistic Regression Model:  100.0 %\n",
      "Accuracy of Decision Tree Model:  95.0 %\n",
      "Accuracy of Naive Bayes Model:  100.0 %\n"
     ]
    }
   ],
   "source": [
    "print(\"Accuracy of Logistic Regression Model: \",accuracy_score(y_test,lr.predict(X_test))*100,\"%\")\n",
    "print(\"Accuracy of Decision Tree Model: \",accuracy_score(y_test,dt_clf.predict(X_test))*100,\"%\")\n",
    "print(\"Accuracy of Naive Bayes Model: \",accuracy_score(y_test,nb_clf.predict(X_test))*100,\"%\")\n"
   ]
  },
  {
   "cell_type": "markdown",
   "id": "e947f1ba",
   "metadata": {},
   "source": [
    "### CONCLUSION:"
   ]
  },
  {
   "cell_type": "markdown",
   "id": "d56f748f",
   "metadata": {},
   "source": [
    "1. Thus we implemented a dataset with 150 rows having 3 specific uniformly distributed species\n",
    "    - Iris Setosa\n",
    "    - Iris Versicolor\n",
    "    - Iris Verginica\n",
    "2. Classification Models we used:\n",
    "    - Logistic Regression\n",
    "    - Decision Tree\n",
    "    - Naive Bayes\n",
    "    "
   ]
  }
 ],
 "metadata": {
  "kernelspec": {
   "display_name": "Python 3",
   "language": "python",
   "name": "python3"
  },
  "language_info": {
   "codemirror_mode": {
    "name": "ipython",
    "version": 3
   },
   "file_extension": ".py",
   "mimetype": "text/x-python",
   "name": "python",
   "nbconvert_exporter": "python",
   "pygments_lexer": "ipython3",
   "version": "3.8.8"
  }
 },
 "nbformat": 4,
 "nbformat_minor": 5
}
